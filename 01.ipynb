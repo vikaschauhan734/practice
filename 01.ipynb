{
 "cells": [
  {
   "cell_type": "code",
   "execution_count": 11,
   "metadata": {},
   "outputs": [],
   "source": [
    "def prime_number(num):\n",
    "    if num <= 0 or type(num)!=int:\n",
    "        return \"Enter a valid number\"\n",
    "    else:\n",
    "        if num == 1:\n",
    "            return \"Not a prime number\"\n",
    "        else:\n",
    "            factor = []\n",
    "            for i in range(1,num+1):\n",
    "                if num%i == 0:\n",
    "                    factor.append(i)\n",
    "            if len(factor) > 2:\n",
    "                return \"Not a prime number\"\n",
    "            else:\n",
    "                return \"Prime number\""
   ]
  },
  {
   "cell_type": "code",
   "execution_count": 12,
   "metadata": {},
   "outputs": [
    {
     "name": "stdout",
     "output_type": "stream",
     "text": [
      "1 Not a prime number\n",
      "2 Prime number\n",
      "3 Prime number\n",
      "4 Not a prime number\n",
      "5 Prime number\n",
      "6 Not a prime number\n",
      "7 Prime number\n",
      "8 Not a prime number\n",
      "9 Not a prime number\n",
      "10 Not a prime number\n",
      "11 Prime number\n",
      "12 Not a prime number\n",
      "13 Prime number\n",
      "14 Not a prime number\n",
      "15 Not a prime number\n",
      "16 Not a prime number\n",
      "17 Prime number\n",
      "18 Not a prime number\n",
      "19 Prime number\n",
      "20 Not a prime number\n"
     ]
    }
   ],
   "source": [
    "for i in range(1, 21):\n",
    "    print(i, prime_number(i))"
   ]
  }
 ],
 "metadata": {
  "kernelspec": {
   "display_name": "Python 3",
   "language": "python",
   "name": "python3"
  },
  "language_info": {
   "codemirror_mode": {
    "name": "ipython",
    "version": 3
   },
   "file_extension": ".py",
   "mimetype": "text/x-python",
   "name": "python",
   "nbconvert_exporter": "python",
   "pygments_lexer": "ipython3",
   "version": "3.11.5"
  }
 },
 "nbformat": 4,
 "nbformat_minor": 2
}
