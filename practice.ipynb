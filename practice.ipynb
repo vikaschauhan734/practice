{
 "cells": [
  {
   "cell_type": "markdown",
   "metadata": {},
   "source": [
    "1. Write a Python function to check if a given number is prime."
   ]
  },
  {
   "cell_type": "code",
   "execution_count": 11,
   "metadata": {},
   "outputs": [],
   "source": [
    "def prime_number(num):\n",
    "    if num <= 0 or type(num)!=int:\n",
    "        return \"Enter a valid number\"\n",
    "    else:\n",
    "        if num == 1:\n",
    "            return \"Not a prime number\"\n",
    "        else:\n",
    "            factor = []\n",
    "            for i in range(1,num+1):\n",
    "                if num%i == 0:\n",
    "                    factor.append(i)\n",
    "            if len(factor) > 2:\n",
    "                return \"Not a prime number\"\n",
    "            else:\n",
    "                return \"Prime number\""
   ]
  },
  {
   "cell_type": "code",
   "execution_count": 12,
   "metadata": {},
   "outputs": [
    {
     "name": "stdout",
     "output_type": "stream",
     "text": [
      "1 Not a prime number\n",
      "2 Prime number\n",
      "3 Prime number\n",
      "4 Not a prime number\n",
      "5 Prime number\n",
      "6 Not a prime number\n",
      "7 Prime number\n",
      "8 Not a prime number\n",
      "9 Not a prime number\n",
      "10 Not a prime number\n",
      "11 Prime number\n",
      "12 Not a prime number\n",
      "13 Prime number\n",
      "14 Not a prime number\n",
      "15 Not a prime number\n",
      "16 Not a prime number\n",
      "17 Prime number\n",
      "18 Not a prime number\n",
      "19 Prime number\n",
      "20 Not a prime number\n"
     ]
    }
   ],
   "source": [
    "for i in range(1, 21):\n",
    "    print(i, prime_number(i))"
   ]
  },
  {
   "cell_type": "markdown",
   "metadata": {},
   "source": [
    "2. Create a Python script that takes a string and returns the number of vowels and consonants."
   ]
  },
  {
   "cell_type": "code",
   "execution_count": 5,
   "metadata": {},
   "outputs": [],
   "source": [
    "def num_vow_cons(string):\n",
    "    string = string.replace(\",\",\"\")\n",
    "    string = string.lower()\n",
    "    vow = 0\n",
    "    cons = 0\n",
    "    for i in string:\n",
    "        if i in ['a','e','i','o','u']:\n",
    "            vow += 1\n",
    "        else:\n",
    "            cons += 1\n",
    "    return vow, cons"
   ]
  },
  {
   "cell_type": "code",
   "execution_count": 6,
   "metadata": {},
   "outputs": [
    {
     "name": "stdout",
     "output_type": "stream",
     "text": [
      "Number of vowels: 7\n",
      "Number of consonents: 11\n"
     ]
    }
   ],
   "source": [
    "vow_cons = num_vow_cons(\"ProcessLookupError\")\n",
    "print(f\"Number of vowels: {vow_cons[0]}\")\n",
    "print(f\"Number of consonents: {vow_cons[1]}\")"
   ]
  },
  {
   "cell_type": "markdown",
   "metadata": {},
   "source": [
    "3. Write a program that swaps the first and last elements of a list."
   ]
  },
  {
   "cell_type": "code",
   "execution_count": 1,
   "metadata": {},
   "outputs": [],
   "source": [
    "def first_n_last_replace(list):\n",
    "    x = list[-1]\n",
    "    list[-1] = list[0]\n",
    "    list[0] = x\n",
    "    return list\n"
   ]
  },
  {
   "cell_type": "code",
   "execution_count": 2,
   "metadata": {},
   "outputs": [
    {
     "data": {
      "text/plain": [
       "[8, 2, 3, 4, 5, 6, 7, 1]"
      ]
     },
     "execution_count": 2,
     "metadata": {},
     "output_type": "execute_result"
    }
   ],
   "source": [
    "first_n_last_replace([1,2,3,4,5,6,7,8])"
   ]
  },
  {
   "cell_type": "markdown",
   "metadata": {},
   "source": [
    "4. Create a function that takes a list of numbers and returns the sum of the even and odd numbers separately."
   ]
  },
  {
   "cell_type": "code",
   "execution_count": 5,
   "metadata": {},
   "outputs": [],
   "source": [
    "def sum_odd_even(list):\n",
    "    sum_even = 0\n",
    "    sum_odd = 0\n",
    "    for i in list:\n",
    "        if type(i) == int:\n",
    "            if i%2 == 0:\n",
    "                sum_even += i\n",
    "            else:\n",
    "                sum_odd += i\n",
    "    return sum_even, sum_odd"
   ]
  },
  {
   "cell_type": "code",
   "execution_count": 6,
   "metadata": {},
   "outputs": [
    {
     "name": "stdout",
     "output_type": "stream",
     "text": [
      "Elements of list: [2, 542, 251, 52, 241, 48, 41, 246]\n",
      "Sum of evens: 890\n",
      "Sum of odds: 533\n"
     ]
    }
   ],
   "source": [
    "list1 = [2, 542, 251 , 52 ,241 , 48 ,41 ,246]\n",
    "sum = sum_odd_even(list1)\n",
    "print(f\"Elements of list: {list1}\")\n",
    "print(f\"Sum of evens: {sum[0]}\")\n",
    "print(f\"Sum of odds: {sum[1]}\")"
   ]
  },
  {
   "cell_type": "markdown",
   "metadata": {},
   "source": [
    "5. Implement a Python function that merges two dictionaries."
   ]
  },
  {
   "cell_type": "code",
   "execution_count": 8,
   "metadata": {},
   "outputs": [],
   "source": [
    "def merge_dict(dict1, dict2):\n",
    "    dict1.update(dict2)\n",
    "    return dict1"
   ]
  },
  {
   "cell_type": "code",
   "execution_count": 9,
   "metadata": {},
   "outputs": [
    {
     "data": {
      "text/plain": [
       "{'as': 12, 'df': 14, 'dv': 18, 'fg': 169}"
      ]
     },
     "execution_count": 9,
     "metadata": {},
     "output_type": "execute_result"
    }
   ],
   "source": [
    "dd = {\"as\":12,\"df\":13}\n",
    "ee = {\"df\":14,\"dv\":18,\"fg\": 169}\n",
    "\n",
    "merge_dict(dd, ee)"
   ]
  },
  {
   "cell_type": "markdown",
   "metadata": {},
   "source": [
    "6. Create a Python function that finds the second largest number in a list."
   ]
  },
  {
   "cell_type": "code",
   "execution_count": 19,
   "metadata": {},
   "outputs": [],
   "source": [
    "def second_largest(list):\n",
    "    list.sort()\n",
    "    return list[-2]"
   ]
  },
  {
   "cell_type": "code",
   "execution_count": 21,
   "metadata": {},
   "outputs": [
    {
     "data": {
      "text/plain": [
       "8"
      ]
     },
     "execution_count": 21,
     "metadata": {},
     "output_type": "execute_result"
    }
   ],
   "source": [
    "list1 = [9,4,5,6,1,2,3,7,8]\n",
    "second_largest(list1)"
   ]
  },
  {
   "cell_type": "markdown",
   "metadata": {},
   "source": [
    "7. Define a class Rectangle with attributes length and width, and methods to calculate area and perimeter."
   ]
  },
  {
   "cell_type": "code",
   "execution_count": 1,
   "metadata": {},
   "outputs": [],
   "source": [
    "class Rectangle:\n",
    "    def __init__(self, length, width):\n",
    "        self.length = length\n",
    "        self.width = width\n",
    "    def area(self):\n",
    "        return self.length*self.width\n",
    "    def perimeter(self):\n",
    "        return 2*(self.length+self.width)"
   ]
  },
  {
   "cell_type": "code",
   "execution_count": 2,
   "metadata": {},
   "outputs": [
    {
     "name": "stdout",
     "output_type": "stream",
     "text": [
      "Length of the rectangle: 10cm\n",
      "Width of the rectangle: 15cm\n",
      "Perimeter of the rectangle: 50cm\n",
      "Area of the rectangle: 150cm^2\n"
     ]
    }
   ],
   "source": [
    "rect = Rectangle(10, 15)\n",
    "print(f\"Length of the rectangle: {rect.length}cm\")\n",
    "print(f\"Width of the rectangle: {rect.width}cm\")\n",
    "print(f\"Perimeter of the rectangle: {rect.perimeter()}cm\")\n",
    "print(f\"Area of the rectangle: {rect.area()}cm^2\")"
   ]
  },
  {
   "cell_type": "markdown",
   "metadata": {},
   "source": [
    "8. Create a Python function to check if two strings are anagrams of each other."
   ]
  },
  {
   "cell_type": "code",
   "execution_count": 5,
   "metadata": {},
   "outputs": [],
   "source": [
    "def anagrams(string1, string2):\n",
    "    string1 = string1.lower()\n",
    "    string2 = string2.lower()\n",
    "    if len(string1) == len(string2):\n",
    "        if sorted(string1) == sorted(string2):\n",
    "            return \"Two strings are anagrams.\"\n",
    "        else:\n",
    "            return \"Two strings are not anagrams.\"\n",
    "    else:\n",
    "        return \"Length of strings should be same.\""
   ]
  },
  {
   "cell_type": "code",
   "execution_count": 6,
   "metadata": {},
   "outputs": [
    {
     "name": "stdout",
     "output_type": "stream",
     "text": [
      "Two strings are anagrams.\n"
     ]
    }
   ],
   "source": [
    "ana = anagrams(\"Listen\",\"Silent\")\n",
    "print(ana)"
   ]
  },
  {
   "cell_type": "code",
   "execution_count": 7,
   "metadata": {},
   "outputs": [
    {
     "name": "stdout",
     "output_type": "stream",
     "text": [
      "Two strings are not anagrams.\n"
     ]
    }
   ],
   "source": [
    "ana = anagrams(\"Learnt\",\"Silent\")\n",
    "print(ana)"
   ]
  },
  {
   "cell_type": "markdown",
   "metadata": {},
   "source": [
    "9. Implement a Python function to perform a binary search on a list."
   ]
  },
  {
   "cell_type": "code",
   "execution_count": 5,
   "metadata": {},
   "outputs": [],
   "source": [
    "def binary_search(list, target):\n",
    "    list.sort()\n",
    "    left = 0\n",
    "    right = len(list)-1\n",
    "    while left<= right:\n",
    "        mid = left + (right-left)//2\n",
    "        if list[mid] == target:\n",
    "            return f\"Element at index: {mid}\"\n",
    "        elif list[mid] < target:\n",
    "            left = mid + 1\n",
    "        else:\n",
    "            right = mid - 1\n",
    "    return \"Element not in the list\""
   ]
  },
  {
   "cell_type": "code",
   "execution_count": 6,
   "metadata": {},
   "outputs": [
    {
     "data": {
      "text/plain": [
       "'Element at index: 2'"
      ]
     },
     "execution_count": 6,
     "metadata": {},
     "output_type": "execute_result"
    }
   ],
   "source": [
    "binary_search([1,52,24,62,28],28)"
   ]
  },
  {
   "cell_type": "code",
   "execution_count": 4,
   "metadata": {},
   "outputs": [
    {
     "data": {
      "text/plain": [
       "'Element not in the list'"
      ]
     },
     "execution_count": 4,
     "metadata": {},
     "output_type": "execute_result"
    }
   ],
   "source": [
    "binary_search([1,52,24,62,28],252)"
   ]
  },
  {
   "cell_type": "markdown",
   "metadata": {},
   "source": [
    "10. Write a Python script that print the Fibonacci sequence using recursive method."
   ]
  },
  {
   "cell_type": "code",
   "execution_count": 7,
   "metadata": {},
   "outputs": [
    {
     "name": "stdout",
     "output_type": "stream",
     "text": [
      "0\n",
      "1\n",
      "1\n",
      "2\n",
      "3\n",
      "5\n",
      "8\n",
      "13\n",
      "21\n",
      "34\n"
     ]
    }
   ],
   "source": [
    "def fibonacci(n):\n",
    "    if n <= 1:\n",
    "        return n\n",
    "    else:\n",
    "        return fibonacci(n-1) + fibonacci(n-2)\n",
    "    \n",
    "num_terms = 10\n",
    "\n",
    "for i in range(num_terms):\n",
    "    print(fibonacci(i))"
   ]
  },
  {
   "cell_type": "markdown",
   "metadata": {},
   "source": [
    "11. Flatten a Nested list"
   ]
  },
  {
   "cell_type": "code",
   "execution_count": 11,
   "metadata": {},
   "outputs": [],
   "source": [
    "def nest_list(list2):\n",
    "    a = []\n",
    "    for i in range(len(list2)):\n",
    "        if type(list2[i]) == list:\n",
    "            a.extend(nest_list(list2[i]))\n",
    "        else:\n",
    "            a.append(list2[i])\n",
    "    return a"
   ]
  },
  {
   "cell_type": "code",
   "execution_count": 12,
   "metadata": {},
   "outputs": [],
   "source": [
    "ab = [[1, 2, [3]], 4, [5, 6]]"
   ]
  },
  {
   "cell_type": "code",
   "execution_count": 13,
   "metadata": {},
   "outputs": [
    {
     "data": {
      "text/plain": [
       "[1, 2, 3, 4, 5, 6]"
      ]
     },
     "execution_count": 13,
     "metadata": {},
     "output_type": "execute_result"
    }
   ],
   "source": [
    "nest_list(ab)"
   ]
  },
  {
   "cell_type": "markdown",
   "metadata": {},
   "source": [
    "12. Merge Strings Alternately"
   ]
  },
  {
   "cell_type": "code",
   "execution_count": 1,
   "metadata": {},
   "outputs": [],
   "source": [
    "def merge_strings_alternately(string1, string2):\n",
    "    newstr=\"\"\n",
    "    min_len=0\n",
    "    if len(string1)>len(string2):\n",
    "        min_len = len(string2)\n",
    "        for i in range(min_len):\n",
    "            newstr+=string1[i]\n",
    "            newstr+=string2[i]\n",
    "        for i in range(min_len,len(string1)):\n",
    "            newstr+=string1[i]\n",
    "    else:\n",
    "        min_len =len(string1)\n",
    "        for i in range(min_len):\n",
    "            newstr+=string1[i]\n",
    "            newstr+=string2[i]\n",
    "        for i in range(min_len,len(string2)):\n",
    "            newstr+=string2[i]\n",
    "    return newstr"
   ]
  },
  {
   "cell_type": "code",
   "execution_count": 7,
   "metadata": {},
   "outputs": [
    {
     "name": "stdout",
     "output_type": "stream",
     "text": [
      "Word1: abc  Word2: pqr  Merged: apbqcr\n",
      "Word1: abc  Word2: pqrstu  Merged: apbqcrstu\n",
      "Word1: abcdef  Word2: pqr  Merged: apbqcrdef\n"
     ]
    }
   ],
   "source": [
    "word1 = \"abc\"\n",
    "word2 = \"pqr\"\n",
    "word3 = \"abcdef\"\n",
    "word4 = \"pqrstu\"\n",
    "print(\"Word1:\",word1,\" Word2:\",word2,\" Merged:\",merge_strings_alternately(word1,word2))\n",
    "print(\"Word1:\",word1,\" Word2:\",word4,\" Merged:\",merge_strings_alternately(word1,word4))\n",
    "print(\"Word1:\",word3,\" Word2:\",word2,\" Merged:\",merge_strings_alternately(word3,word2))"
   ]
  },
  {
   "cell_type": "markdown",
   "metadata": {},
   "source": [
    "13. Move all zeroes to the end"
   ]
  },
  {
   "cell_type": "code",
   "execution_count": 4,
   "metadata": {},
   "outputs": [],
   "source": [
    "def move_zeroes(list):\n",
    "    list1 = []\n",
    "    zeroes = []\n",
    "    for i in list:\n",
    "        if i == 0:\n",
    "            zeroes.append(i)\n",
    "        else:\n",
    "            list1.append(i)\n",
    "    return list1 + zeroes"
   ]
  },
  {
   "cell_type": "code",
   "execution_count": 5,
   "metadata": {},
   "outputs": [
    {
     "data": {
      "text/plain": [
       "[1, 3, 12, 0, 0]"
      ]
     },
     "execution_count": 5,
     "metadata": {},
     "output_type": "execute_result"
    }
   ],
   "source": [
    "nums = [0,1,0,3,12]\n",
    "move_zeroes(nums)"
   ]
  },
  {
   "cell_type": "code",
   "execution_count": null,
   "metadata": {},
   "outputs": [],
   "source": []
  }
 ],
 "metadata": {
  "kernelspec": {
   "display_name": "Python 3",
   "language": "python",
   "name": "python3"
  },
  "language_info": {
   "codemirror_mode": {
    "name": "ipython",
    "version": 3
   },
   "file_extension": ".py",
   "mimetype": "text/x-python",
   "name": "python",
   "nbconvert_exporter": "python",
   "pygments_lexer": "ipython3",
   "version": "3.11.5"
  }
 },
 "nbformat": 4,
 "nbformat_minor": 2
}
