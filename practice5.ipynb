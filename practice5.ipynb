{
 "cells": [
  {
   "cell_type": "markdown",
   "id": "a4102dcc",
   "metadata": {},
   "source": [
    "Write a program that finds the average value of all the elements in a list of dictionaries."
   ]
  },
  {
   "cell_type": "code",
   "execution_count": 6,
   "id": "26fd127d",
   "metadata": {},
   "outputs": [],
   "source": [
    "def average_from_dict_list(dict_list):\n",
    "    total = 0\n",
    "    count = 0\n",
    "\n",
    "    for d in dict_list:\n",
    "        for value in d.values():\n",
    "            if isinstance(value, (int, float)):\n",
    "                total += value\n",
    "                count += 1\n",
    "\n",
    "    if count == 0:\n",
    "        return None\n",
    "\n",
    "    return total / count"
   ]
  },
  {
   "cell_type": "code",
   "execution_count": 7,
   "id": "d090bc9a",
   "metadata": {},
   "outputs": [
    {
     "data": {
      "text/plain": [
       "35.0"
      ]
     },
     "execution_count": 7,
     "metadata": {},
     "output_type": "execute_result"
    }
   ],
   "source": [
    "data = [\n",
    "    {'a': 10, 'b': 20},\n",
    "    {'c': 30},\n",
    "    {'d': 40, 'e': 50, 'f': 60}\n",
    "]\n",
    "\n",
    "average_from_dict_list(data)"
   ]
  },
  {
   "cell_type": "markdown",
   "id": "da94a816",
   "metadata": {},
   "source": [
    "Implement a function that takes a list of strings and returns a set of unique characters present in all strings."
   ]
  },
  {
   "cell_type": "code",
   "execution_count": 3,
   "id": "a41c37de",
   "metadata": {},
   "outputs": [],
   "source": [
    "def common_characters(strings):\n",
    "    if not strings:\n",
    "        return set()\n",
    "    common_chars = set(strings[0])\n",
    "    for s in strings[1:]:\n",
    "        common_chars &= set(s)\n",
    "    return common_chars"
   ]
  },
  {
   "cell_type": "code",
   "execution_count": 4,
   "id": "f2882b4c",
   "metadata": {},
   "outputs": [
    {
     "data": {
      "text/plain": [
       "{'l', 'o'}"
      ]
     },
     "execution_count": 4,
     "metadata": {},
     "output_type": "execute_result"
    }
   ],
   "source": [
    "strings = [\"hello\", \"world\", \"bold\"]\n",
    "common_characters(strings)"
   ]
  },
  {
   "cell_type": "markdown",
   "id": "46ee4011",
   "metadata": {},
   "source": [
    "Write a program that reads a text file and prints its contents."
   ]
  },
  {
   "cell_type": "code",
   "execution_count": 3,
   "id": "1923952e",
   "metadata": {},
   "outputs": [],
   "source": [
    "def read_file(file_path):\n",
    "    try:\n",
    "        with open(file_path, 'r') as file:\n",
    "            contents = file.read()\n",
    "            print(contents)\n",
    "    except FileNotFoundError:\n",
    "        print(f\"Error: The file '{file_path}' was not found.\")\n",
    "    except Exception as e:\n",
    "        print(f\"An error occurred: {e}\")"
   ]
  },
  {
   "cell_type": "code",
   "execution_count": 4,
   "id": "281927b0",
   "metadata": {},
   "outputs": [
    {
     "name": "stdout",
     "output_type": "stream",
     "text": [
      "line1\n",
      "line2\n",
      "line3\n",
      "\n"
     ]
    }
   ],
   "source": [
    "read_file('sample.txt')"
   ]
  },
  {
   "cell_type": "markdown",
   "id": "4f867cba",
   "metadata": {},
   "source": [
    "Create a new text file and write some content into it."
   ]
  },
  {
   "cell_type": "code",
   "execution_count": 1,
   "id": "7a100741",
   "metadata": {},
   "outputs": [],
   "source": [
    "content = \"\"\"line 1\n",
    "line 2\n",
    "line 3\n",
    "line 4\n",
    "line 5\n",
    "\"\"\""
   ]
  },
  {
   "cell_type": "code",
   "execution_count": 2,
   "id": "47e93ef9",
   "metadata": {},
   "outputs": [],
   "source": [
    "with open(\"sample1.txt\", \"w\") as file:\n",
    "    file.write(content)"
   ]
  },
  {
   "cell_type": "code",
   "execution_count": null,
   "id": "2b5f4b61",
   "metadata": {},
   "outputs": [],
   "source": []
  }
 ],
 "metadata": {
  "kernelspec": {
   "display_name": "Python 3",
   "language": "python",
   "name": "python3"
  },
  "language_info": {
   "codemirror_mode": {
    "name": "ipython",
    "version": 3
   },
   "file_extension": ".py",
   "mimetype": "text/x-python",
   "name": "python",
   "nbconvert_exporter": "python",
   "pygments_lexer": "ipython3",
   "version": "3.11.5"
  }
 },
 "nbformat": 4,
 "nbformat_minor": 5
}
