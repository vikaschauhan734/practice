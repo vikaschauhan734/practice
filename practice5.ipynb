{
 "cells": [
  {
   "cell_type": "markdown",
   "id": "a4102dcc",
   "metadata": {},
   "source": [
    "Write a program that finds the average value of all the elements in a list of dictionaries."
   ]
  },
  {
   "cell_type": "code",
   "execution_count": 6,
   "id": "26fd127d",
   "metadata": {},
   "outputs": [],
   "source": [
    "def average_from_dict_list(dict_list):\n",
    "    total = 0\n",
    "    count = 0\n",
    "\n",
    "    for d in dict_list:\n",
    "        for value in d.values():\n",
    "            if isinstance(value, (int, float)):\n",
    "                total += value\n",
    "                count += 1\n",
    "\n",
    "    if count == 0:\n",
    "        return None\n",
    "\n",
    "    return total / count"
   ]
  },
  {
   "cell_type": "code",
   "execution_count": 7,
   "id": "d090bc9a",
   "metadata": {},
   "outputs": [
    {
     "data": {
      "text/plain": [
       "35.0"
      ]
     },
     "execution_count": 7,
     "metadata": {},
     "output_type": "execute_result"
    }
   ],
   "source": [
    "data = [\n",
    "    {'a': 10, 'b': 20},\n",
    "    {'c': 30},\n",
    "    {'d': 40, 'e': 50, 'f': 60}\n",
    "]\n",
    "\n",
    "average_from_dict_list(data)"
   ]
  },
  {
   "cell_type": "code",
   "execution_count": null,
   "id": "a41c37de",
   "metadata": {},
   "outputs": [],
   "source": []
  }
 ],
 "metadata": {
  "kernelspec": {
   "display_name": "Python 3",
   "language": "python",
   "name": "python3"
  },
  "language_info": {
   "codemirror_mode": {
    "name": "ipython",
    "version": 3
   },
   "file_extension": ".py",
   "mimetype": "text/x-python",
   "name": "python",
   "nbconvert_exporter": "python",
   "pygments_lexer": "ipython3",
   "version": "3.11.5"
  }
 },
 "nbformat": 4,
 "nbformat_minor": 5
}
