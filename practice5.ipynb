{
 "cells": [
  {
   "cell_type": "markdown",
   "id": "a4102dcc",
   "metadata": {},
   "source": [
    "Write a program that finds the average value of all the elements in a list of dictionaries."
   ]
  },
  {
   "cell_type": "code",
   "execution_count": 6,
   "id": "26fd127d",
   "metadata": {},
   "outputs": [],
   "source": [
    "def average_from_dict_list(dict_list):\n",
    "    total = 0\n",
    "    count = 0\n",
    "\n",
    "    for d in dict_list:\n",
    "        for value in d.values():\n",
    "            if isinstance(value, (int, float)):\n",
    "                total += value\n",
    "                count += 1\n",
    "\n",
    "    if count == 0:\n",
    "        return None\n",
    "\n",
    "    return total / count"
   ]
  },
  {
   "cell_type": "code",
   "execution_count": 7,
   "id": "d090bc9a",
   "metadata": {},
   "outputs": [
    {
     "data": {
      "text/plain": [
       "35.0"
      ]
     },
     "execution_count": 7,
     "metadata": {},
     "output_type": "execute_result"
    }
   ],
   "source": [
    "data = [\n",
    "    {'a': 10, 'b': 20},\n",
    "    {'c': 30},\n",
    "    {'d': 40, 'e': 50, 'f': 60}\n",
    "]\n",
    "\n",
    "average_from_dict_list(data)"
   ]
  },
  {
   "cell_type": "markdown",
   "id": "da94a816",
   "metadata": {},
   "source": [
    "Implement a function that takes a list of strings and returns a set of unique characters present in all strings."
   ]
  },
  {
   "cell_type": "code",
   "execution_count": 3,
   "id": "a41c37de",
   "metadata": {},
   "outputs": [],
   "source": [
    "def common_characters(strings):\n",
    "    if not strings:\n",
    "        return set()\n",
    "    common_chars = set(strings[0])\n",
    "    for s in strings[1:]:\n",
    "        common_chars &= set(s)\n",
    "    return common_chars"
   ]
  },
  {
   "cell_type": "code",
   "execution_count": 4,
   "id": "f2882b4c",
   "metadata": {},
   "outputs": [
    {
     "data": {
      "text/plain": [
       "{'l', 'o'}"
      ]
     },
     "execution_count": 4,
     "metadata": {},
     "output_type": "execute_result"
    }
   ],
   "source": [
    "strings = [\"hello\", \"world\", \"bold\"]\n",
    "common_characters(strings)"
   ]
  },
  {
   "cell_type": "markdown",
   "id": "46ee4011",
   "metadata": {},
   "source": [
    "Write a program that reads a text file and prints its contents."
   ]
  },
  {
   "cell_type": "code",
   "execution_count": 3,
   "id": "1923952e",
   "metadata": {},
   "outputs": [],
   "source": [
    "def read_file(file_path):\n",
    "    try:\n",
    "        with open(file_path, 'r') as file:\n",
    "            contents = file.read()\n",
    "            print(contents)\n",
    "    except FileNotFoundError:\n",
    "        print(f\"Error: The file '{file_path}' was not found.\")\n",
    "    except Exception as e:\n",
    "        print(f\"An error occurred: {e}\")"
   ]
  },
  {
   "cell_type": "code",
   "execution_count": 4,
   "id": "281927b0",
   "metadata": {},
   "outputs": [
    {
     "name": "stdout",
     "output_type": "stream",
     "text": [
      "line1\n",
      "line2\n",
      "line3\n",
      "\n"
     ]
    }
   ],
   "source": [
    "read_file('sample.txt')"
   ]
  },
  {
   "cell_type": "markdown",
   "id": "4f867cba",
   "metadata": {},
   "source": [
    "Create a new text file and write some content into it."
   ]
  },
  {
   "cell_type": "code",
   "execution_count": 1,
   "id": "7a100741",
   "metadata": {},
   "outputs": [],
   "source": [
    "content = \"\"\"line 1\n",
    "line 2\n",
    "line 3\n",
    "line 4\n",
    "line 5\n",
    "\"\"\""
   ]
  },
  {
   "cell_type": "code",
   "execution_count": 2,
   "id": "47e93ef9",
   "metadata": {},
   "outputs": [],
   "source": [
    "with open(\"sample1.txt\", \"w\") as file:\n",
    "    file.write(content)"
   ]
  },
  {
   "cell_type": "markdown",
   "id": "df2d13d7",
   "metadata": {},
   "source": [
    "Write a Python program to copy the contents of one text file into another."
   ]
  },
  {
   "cell_type": "code",
   "execution_count": 1,
   "id": "2b5f4b61",
   "metadata": {},
   "outputs": [],
   "source": [
    "def copy_file(source_file, destination_file):\n",
    "    try:\n",
    "        with open(source_file, 'r') as src:\n",
    "            contents = src.read()\n",
    "        with open(destination_file, 'w') as dest:\n",
    "            dest.write(contents)\n",
    "        print(f\"Contents copied from '{source_file}' to '{destination_file}' successfully.\")\n",
    "    except FileNotFoundError:\n",
    "        print(f\"Error: The file '{source_file}' was not found.\")\n",
    "    except Exception as e:\n",
    "        print(f\"An error occurred: {e}\")"
   ]
  },
  {
   "cell_type": "code",
   "execution_count": 2,
   "id": "577118c6",
   "metadata": {},
   "outputs": [
    {
     "name": "stdout",
     "output_type": "stream",
     "text": [
      "Contents copied from 'sample.txt' to 'sample1.txt' successfully.\n"
     ]
    }
   ],
   "source": [
    "copy_file('sample.txt', 'sample1.txt')"
   ]
  },
  {
   "cell_type": "code",
   "execution_count": 4,
   "id": "a9e6e5e7",
   "metadata": {},
   "outputs": [],
   "source": [
    "def count_words_and_lines(filename):\n",
    "    try:\n",
    "        with open(filename, 'r', encoding='utf-8') as file:\n",
    "            lines = file.readlines()\n",
    "            line_count = len(lines)\n",
    "            word_count = sum(len(line.split()) for line in lines)\n",
    "\n",
    "        print(f\"File: {filename}\")\n",
    "        print(f\"Number of lines: {line_count}\")\n",
    "        print(f\"Number of words: {word_count}\")\n",
    "\n",
    "    except FileNotFoundError:\n",
    "        \n",
    "        print(f\"Error: The file '{filename}' does not exist.\")"
   ]
  },
  {
   "cell_type": "code",
   "execution_count": 6,
   "id": "813bdbcc",
   "metadata": {},
   "outputs": [
    {
     "name": "stdout",
     "output_type": "stream",
     "text": [
      "File: sample.txt\n",
      "Number of lines: 3\n",
      "Number of words: 3\n"
     ]
    }
   ],
   "source": [
    "count_words_and_lines(\"sample.txt\")"
   ]
  },
  {
   "cell_type": "code",
   "execution_count": null,
   "id": "56e03ec0",
   "metadata": {},
   "outputs": [],
   "source": []
  }
 ],
 "metadata": {
  "kernelspec": {
   "display_name": "Python 3",
   "language": "python",
   "name": "python3"
  },
  "language_info": {
   "codemirror_mode": {
    "name": "ipython",
    "version": 3
   },
   "file_extension": ".py",
   "mimetype": "text/x-python",
   "name": "python",
   "nbconvert_exporter": "python",
   "pygments_lexer": "ipython3",
   "version": "3.11.5"
  }
 },
 "nbformat": 4,
 "nbformat_minor": 5
}
