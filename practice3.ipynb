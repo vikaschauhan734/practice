{
 "cells": [
  {
   "cell_type": "markdown",
   "metadata": {},
   "source": [
    "63. Median of Two Sorted Arrays"
   ]
  },
  {
   "cell_type": "code",
   "execution_count": 1,
   "metadata": {},
   "outputs": [],
   "source": [
    "def find_median(nums1, nums2):\n",
    "    if len(nums1) > len(nums2):\n",
    "        nums1, nums2 = nums2, nums1\n",
    "    m,n = len(nums1), len(nums2)\n",
    "    total_length = m + n\n",
    "    half_length = (total_length + 1) // 2\n",
    "    low, high = 0, m\n",
    "    while low <= high:\n",
    "        i = (low + high) //2\n",
    "        j = half_length - i\n",
    "        nums1_left_max = float('-inf') if i == 0 else nums1[i-1]\n",
    "        nums1_right_min = float('inf') if i == m else nums1[i]\n",
    "        nums2_left_max = float('-inf') if j == 0 else nums2[j-1]\n",
    "        nums2_right_min = float('inf') if j == n else nums2[j]\n",
    "        if nums1_left_max <= nums1_right_min and nums2_left_max <= nums1_right_min:\n",
    "            if total_length % 2 == 1:\n",
    "                return max(nums1_left_max, nums2_left_max)\n",
    "            return (max(nums1_left_max, nums2_left_max) + min(nums1_right_min, nums2_right_min))/2\n",
    "        elif nums1_left_max > nums1_right_min:\n",
    "            high = i - 1\n",
    "        else:\n",
    "            low = i + 1 "
   ]
  },
  {
   "cell_type": "code",
   "execution_count": 2,
   "metadata": {},
   "outputs": [
    {
     "data": {
      "text/plain": [
       "2"
      ]
     },
     "execution_count": 2,
     "metadata": {},
     "output_type": "execute_result"
    }
   ],
   "source": [
    "nums1 = [1,3]\n",
    "nums2 = [2]\n",
    "find_median(nums1, nums2)"
   ]
  },
  {
   "cell_type": "code",
   "execution_count": 3,
   "metadata": {},
   "outputs": [
    {
     "data": {
      "text/plain": [
       "2.5"
      ]
     },
     "execution_count": 3,
     "metadata": {},
     "output_type": "execute_result"
    }
   ],
   "source": [
    "nums1 = [1,2]\n",
    "nums2 = [3,4]\n",
    "find_median(nums1, nums2)"
   ]
  },
  {
   "cell_type": "markdown",
   "metadata": {},
   "source": [
    "64. Find the Index of the First Occurrence in a String"
   ]
  },
  {
   "cell_type": "code",
   "execution_count": 4,
   "metadata": {},
   "outputs": [],
   "source": [
    "def first_occurence(haystack, needle):\n",
    "    if needle == \"\":\n",
    "        return 0\n",
    "    return haystack.find(needle)"
   ]
  },
  {
   "cell_type": "code",
   "execution_count": 5,
   "metadata": {},
   "outputs": [
    {
     "data": {
      "text/plain": [
       "0"
      ]
     },
     "execution_count": 5,
     "metadata": {},
     "output_type": "execute_result"
    }
   ],
   "source": [
    "first_occurence(\"sadbutsad\",\"sad\")"
   ]
  },
  {
   "cell_type": "code",
   "execution_count": 6,
   "metadata": {},
   "outputs": [
    {
     "data": {
      "text/plain": [
       "-1"
      ]
     },
     "execution_count": 6,
     "metadata": {},
     "output_type": "execute_result"
    }
   ],
   "source": [
    "first_occurence(\"leetcode\",\"leeto\")"
   ]
  },
  {
   "cell_type": "markdown",
   "metadata": {},
   "source": [
    "65. Isomorphic Strings"
   ]
  },
  {
   "cell_type": "code",
   "execution_count": 7,
   "metadata": {},
   "outputs": [],
   "source": [
    "def is_isomorphic(s, t):\n",
    "    if len(s) != len(t):\n",
    "        return False\n",
    "    map_s_to_t = {}\n",
    "    map_t_to_s = {}\n",
    "    for char_s, char_t in zip(s, t):\n",
    "        if char_s in map_s_to_t:\n",
    "            if map_s_to_t[char_s] != char_t:\n",
    "                return False\n",
    "        else:\n",
    "            map_s_to_t[char_s] = char_t\n",
    "        if char_t in map_t_to_s:\n",
    "            if map_t_to_s[char_t] != char_s:\n",
    "                return False\n",
    "        else:\n",
    "            map_t_to_s[char_t] = char_s\n",
    "    return True"
   ]
  },
  {
   "cell_type": "code",
   "execution_count": 8,
   "metadata": {},
   "outputs": [
    {
     "data": {
      "text/plain": [
       "True"
      ]
     },
     "execution_count": 8,
     "metadata": {},
     "output_type": "execute_result"
    }
   ],
   "source": [
    "is_isomorphic(\"egg\", \"add\")"
   ]
  },
  {
   "cell_type": "code",
   "execution_count": 9,
   "metadata": {},
   "outputs": [
    {
     "data": {
      "text/plain": [
       "False"
      ]
     },
     "execution_count": 9,
     "metadata": {},
     "output_type": "execute_result"
    }
   ],
   "source": [
    "is_isomorphic(\"foo\", \"bar\")"
   ]
  },
  {
   "cell_type": "code",
   "execution_count": 10,
   "metadata": {},
   "outputs": [
    {
     "data": {
      "text/plain": [
       "True"
      ]
     },
     "execution_count": 10,
     "metadata": {},
     "output_type": "execute_result"
    }
   ],
   "source": [
    "is_isomorphic(\"paper\", \"title\")"
   ]
  },
  {
   "cell_type": "markdown",
   "metadata": {},
   "source": [
    "66. Permutations"
   ]
  },
  {
   "cell_type": "code",
   "execution_count": 11,
   "metadata": {},
   "outputs": [],
   "source": [
    "from itertools import permutations\n",
    "\n",
    "def permute(nums):\n",
    "    return [list(p) for p in permutations(nums)]"
   ]
  },
  {
   "cell_type": "code",
   "execution_count": 12,
   "metadata": {},
   "outputs": [
    {
     "name": "stdout",
     "output_type": "stream",
     "text": [
      "Input: [1, 2, 3]\n",
      "Output: [[1, 2, 3], [1, 3, 2], [2, 1, 3], [2, 3, 1], [3, 1, 2], [3, 2, 1]]\n",
      "Input: [0, 1]\n",
      "Output: [[0, 1], [1, 0]]\n",
      "Input: [1]\n",
      "Output: [[1]]\n"
     ]
    }
   ],
   "source": [
    "nums1 = [1, 2, 3]\n",
    "nums2 = [0, 1]\n",
    "nums3 = [1]\n",
    "\n",
    "print(\"Input:\", nums1)\n",
    "print(\"Output:\", permute(nums1))\n",
    "\n",
    "print(\"Input:\", nums2)\n",
    "print(\"Output:\", permute(nums2))\n",
    "\n",
    "print(\"Input:\", nums3)\n",
    "print(\"Output:\", permute(nums3))"
   ]
  },
  {
   "cell_type": "markdown",
   "metadata": {},
   "source": [
    "67. Multiply Strings"
   ]
  },
  {
   "cell_type": "code",
   "execution_count": 17,
   "metadata": {},
   "outputs": [],
   "source": [
    "def multiplystrings(num1, num2):\n",
    "    if num1 == \"0\" or num2 == \"0\":\n",
    "        return \"0\"\n",
    "    \n",
    "    result = [0]*(len(num1) + len(num2))\n",
    "\n",
    "    for i in range(len(num1)-1, -1, -1):\n",
    "        for j in range(len(num2)-1, -1, -1):\n",
    "            product = (ord(num1[i]) - ord('0')) * (ord(num2[j]) - ord('0'))\n",
    "            temp_sum = product + result[i+j+1]\n",
    "            result[i+j+1] = temp_sum % 10\n",
    "            result[i+j] += temp_sum // 10\n",
    "    \n",
    "    result_str = ''.join(map(str, result)).lstrip('0')\n",
    "    return result_str"
   ]
  },
  {
   "cell_type": "code",
   "execution_count": 18,
   "metadata": {},
   "outputs": [
    {
     "data": {
      "text/plain": [
       "'6'"
      ]
     },
     "execution_count": 18,
     "metadata": {},
     "output_type": "execute_result"
    }
   ],
   "source": [
    "multiplystrings(\"2\",\"3\")"
   ]
  },
  {
   "cell_type": "code",
   "execution_count": 19,
   "metadata": {},
   "outputs": [
    {
     "data": {
      "text/plain": [
       "'56088'"
      ]
     },
     "execution_count": 19,
     "metadata": {},
     "output_type": "execute_result"
    }
   ],
   "source": [
    "multiplystrings(\"123\",\"456\")"
   ]
  },
  {
   "cell_type": "code",
   "execution_count": null,
   "metadata": {},
   "outputs": [],
   "source": []
  }
 ],
 "metadata": {
  "kernelspec": {
   "display_name": "Python311",
   "language": "python",
   "name": "python3"
  },
  "language_info": {
   "codemirror_mode": {
    "name": "ipython",
    "version": 3
   },
   "file_extension": ".py",
   "mimetype": "text/x-python",
   "name": "python",
   "nbconvert_exporter": "python",
   "pygments_lexer": "ipython3",
   "version": "3.11.5"
  }
 },
 "nbformat": 4,
 "nbformat_minor": 2
}
