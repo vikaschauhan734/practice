{
 "cells": [
  {
   "cell_type": "markdown",
   "metadata": {},
   "source": [
    "63. Median of Two Sorted Arrays"
   ]
  },
  {
   "cell_type": "code",
   "execution_count": 1,
   "metadata": {},
   "outputs": [],
   "source": [
    "def find_median(nums1, nums2):\n",
    "    if len(nums1) > len(nums2):\n",
    "        nums1, nums2 = nums2, nums1\n",
    "    m,n = len(nums1), len(nums2)\n",
    "    total_length = m + n\n",
    "    half_length = (total_length + 1) // 2\n",
    "    low, high = 0, m\n",
    "    while low <= high:\n",
    "        i = (low + high) //2\n",
    "        j = half_length - i\n",
    "        nums1_left_max = float('-inf') if i == 0 else nums1[i-1]\n",
    "        nums1_right_min = float('inf') if i == m else nums1[i]\n",
    "        nums2_left_max = float('-inf') if j == 0 else nums2[j-1]\n",
    "        nums2_right_min = float('inf') if j == n else nums2[j]\n",
    "        if nums1_left_max <= nums1_right_min and nums2_left_max <= nums1_right_min:\n",
    "            if total_length % 2 == 1:\n",
    "                return max(nums1_left_max, nums2_left_max)\n",
    "            return (max(nums1_left_max, nums2_left_max) + min(nums1_right_min, nums2_right_min))/2\n",
    "        elif nums1_left_max > nums1_right_min:\n",
    "            high = i - 1\n",
    "        else:\n",
    "            low = i + 1 "
   ]
  },
  {
   "cell_type": "code",
   "execution_count": 2,
   "metadata": {},
   "outputs": [
    {
     "data": {
      "text/plain": [
       "2"
      ]
     },
     "execution_count": 2,
     "metadata": {},
     "output_type": "execute_result"
    }
   ],
   "source": [
    "nums1 = [1,3]\n",
    "nums2 = [2]\n",
    "find_median(nums1, nums2)"
   ]
  },
  {
   "cell_type": "code",
   "execution_count": 3,
   "metadata": {},
   "outputs": [
    {
     "data": {
      "text/plain": [
       "2.5"
      ]
     },
     "execution_count": 3,
     "metadata": {},
     "output_type": "execute_result"
    }
   ],
   "source": [
    "nums1 = [1,2]\n",
    "nums2 = [3,4]\n",
    "find_median(nums1, nums2)"
   ]
  },
  {
   "cell_type": "markdown",
   "metadata": {},
   "source": [
    "64. Find the Index of the First Occurrence in a String"
   ]
  },
  {
   "cell_type": "code",
   "execution_count": 1,
   "metadata": {},
   "outputs": [],
   "source": [
    "def first_occurence(haystack, needle):\n",
    "    if needle == \"\":\n",
    "        return 0\n",
    "    return haystack.find(needle)"
   ]
  },
  {
   "cell_type": "code",
   "execution_count": 2,
   "metadata": {},
   "outputs": [
    {
     "data": {
      "text/plain": [
       "0"
      ]
     },
     "execution_count": 2,
     "metadata": {},
     "output_type": "execute_result"
    }
   ],
   "source": [
    "first_occurence(\"sadbutsad\",\"sad\")"
   ]
  },
  {
   "cell_type": "code",
   "execution_count": 3,
   "metadata": {},
   "outputs": [
    {
     "data": {
      "text/plain": [
       "-1"
      ]
     },
     "execution_count": 3,
     "metadata": {},
     "output_type": "execute_result"
    }
   ],
   "source": [
    "first_occurence(\"leetcode\",\"leeto\")"
   ]
  },
  {
   "cell_type": "code",
   "execution_count": null,
   "metadata": {},
   "outputs": [],
   "source": []
  }
 ],
 "metadata": {
  "kernelspec": {
   "display_name": "Python311",
   "language": "python",
   "name": "python3"
  },
  "language_info": {
   "codemirror_mode": {
    "name": "ipython",
    "version": 3
   },
   "file_extension": ".py",
   "mimetype": "text/x-python",
   "name": "python",
   "nbconvert_exporter": "python",
   "pygments_lexer": "ipython3",
   "version": "3.11.5"
  }
 },
 "nbformat": 4,
 "nbformat_minor": 2
}
